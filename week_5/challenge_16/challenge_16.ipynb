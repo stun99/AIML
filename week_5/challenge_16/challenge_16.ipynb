{
  "nbformat": 4,
  "nbformat_minor": 0,
  "metadata": {
    "colab": {
      "provenance": [],
      "gpuType": "T4"
    },
    "kernelspec": {
      "name": "python3",
      "display_name": "Python 3"
    },
    "language_info": {
      "name": "python"
    },
    "accelerator": "GPU"
  },
  "cells": [
    {
      "cell_type": "code",
      "execution_count": 1,
      "metadata": {
        "colab": {
          "base_uri": "https://localhost:8080/"
        },
        "id": "MQxk_E2EYxNO",
        "outputId": "13665b7e-1964-4778-af2b-a28cfb656c52"
      },
      "outputs": [
        {
          "output_type": "stream",
          "name": "stdout",
          "text": [
            "Training completed in 12.3252 seconds for 10000 epochs\n"
          ]
        }
      ],
      "source": [
        "import cupy as cp\n",
        "import time\n",
        "\n",
        "# Initialize synthetic dataset (1000 samples, 5 features)\n",
        "X = cp.random.randn(10000, 5).astype(cp.float32)\n",
        "Y_true = cp.random.randn(10000, 1).astype(cp.float32)\n",
        "\n",
        "# Initialize weights and biases on GPU\n",
        "W1 = cp.random.randn(5, 5).astype(cp.float32)\n",
        "b1 = cp.zeros(5, dtype=cp.float32)\n",
        "W2 = cp.random.randn(5, 1).astype(cp.float32)\n",
        "b2 = cp.zeros(1, dtype=cp.float32)\n",
        "\n",
        "# Forward pass\n",
        "def forward(X):\n",
        "    H = cp.tanh(cp.dot(X, W1) + b1)\n",
        "    Yp = cp.dot(H, W2) + b2\n",
        "    return H, Yp\n",
        "\n",
        "# Backward pass and update\n",
        "def backward(X, H, Yp, Y_true, lr=0.01):\n",
        "    N = X.shape[0]\n",
        "    dY = (Yp - Y_true) / N\n",
        "    dW2 = H.T.dot(dY)\n",
        "    db2 = cp.sum(dY, axis=0)\n",
        "    dH = dY.dot(W2.T) * (1 - H**2)  # Derivative of tanh\n",
        "    dW1 = X.T.dot(dH)\n",
        "    db1 = cp.sum(dH, axis=0)\n",
        "\n",
        "    W1[...] -= lr * dW1\n",
        "    b1[...] -= lr * db1\n",
        "    W2[...] -= lr * dW2\n",
        "    b2[...] -= lr * db2\n",
        "\n",
        "# Training loop with timing\n",
        "epochs = 10000\n",
        "start_time = time.time()\n",
        "\n",
        "for epoch in range(epochs):\n",
        "    H, Yp = forward(X)\n",
        "    backward(X, H, Yp, Y_true)\n",
        "\n",
        "end_time = time.time()\n",
        "\n",
        "print(f\"Training completed in {end_time - start_time:.4f} seconds for {epochs} epochs\")\n"
      ]
    }
  ]
}