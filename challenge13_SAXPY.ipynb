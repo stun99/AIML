{
  "nbformat": 4,
  "nbformat_minor": 0,
  "metadata": {
    "colab": {
      "provenance": [],
      "gpuType": "T4",
      "authorship_tag": "ABX9TyPBJxapahud6SapzH3Lj4EZ",
      "include_colab_link": true
    },
    "kernelspec": {
      "name": "python3",
      "display_name": "Python 3"
    },
    "language_info": {
      "name": "python"
    },
    "accelerator": "GPU"
  },
  "cells": [
    {
      "cell_type": "markdown",
      "metadata": {
        "id": "view-in-github",
        "colab_type": "text"
      },
      "source": [
        "<a href=\"https://colab.research.google.com/github/stun99/AIML/blob/main/challenge13_SAXPY.ipynb\" target=\"_parent\"><img src=\"https://colab.research.google.com/assets/colab-badge.svg\" alt=\"Open In Colab\"/></a>"
      ]
    },
    {
      "cell_type": "code",
      "execution_count": 5,
      "metadata": {
        "colab": {
          "base_uri": "https://localhost:8080/"
        },
        "id": "H0Ak17cnuEOI",
        "outputId": "60f3068c-cbdd-4bfa-887a-e26d7912d8de"
      },
      "outputs": [
        {
          "output_type": "stream",
          "name": "stdout",
          "text": [
            "Overwriting cuda.cu\n"
          ]
        }
      ],
      "source": [
        "%%writefile cuda.cu\n",
        "#include <stdio.h>\n",
        "#include <cuda_runtime.h>\n",
        "#include <math.h>       // For fmax, fabs\n",
        "#include <stdlib.h>     // For malloc, free\n",
        "\n",
        "__global__\n",
        "void saxpy(int n, float a, float *x, float *y)\n",
        "{\n",
        "    int i = blockIdx.x * blockDim.x + threadIdx.x;\n",
        "    if (i < n) y[i] = a * x[i] + y[i];\n",
        "}\n",
        "\n",
        "int main(void)\n",
        "{\n",
        "    int start_power = 15;\n",
        "    int end_power = 25;\n",
        "\n",
        "    // Arrays to store results\n",
        "    float total_times[11];    // Total time including malloc, copy, kernel\n",
        "    float kernel_times[11];   // Kernel time only\n",
        "\n",
        "    for (int p = start_power; p <= end_power; p++) {\n",
        "        int idx = p - start_power;\n",
        "        int N = 1 << p;\n",
        "        printf(\"Running for N = %d\\n\", N);\n",
        "\n",
        "        float *x, *y, *d_x, *d_y;\n",
        "        x = (float*)malloc(N * sizeof(float));\n",
        "        y = (float*)malloc(N * sizeof(float));\n",
        "\n",
        "        for (int i = 0; i < N; i++) {\n",
        "            x[i] = 1.0f;\n",
        "            y[i] = 2.0f;\n",
        "        }\n",
        "\n",
        "        cudaEvent_t start_total, stop_total, start_kernel, stop_kernel;\n",
        "        cudaEventCreate(&start_total);\n",
        "        cudaEventCreate(&stop_total);\n",
        "        cudaEventCreate(&start_kernel);\n",
        "        cudaEventCreate(&stop_kernel);\n",
        "\n",
        "        cudaEventRecord(start_total);\n",
        "\n",
        "        cudaMalloc(&d_x, N * sizeof(float));\n",
        "        cudaMalloc(&d_y, N * sizeof(float));\n",
        "        cudaMemcpy(d_x, x, N * sizeof(float), cudaMemcpyHostToDevice);\n",
        "        cudaMemcpy(d_y, y, N * sizeof(float), cudaMemcpyHostToDevice);\n",
        "\n",
        "        // Launch kernel and measure kernel time\n",
        "        cudaEventRecord(start_kernel);\n",
        "        saxpy<<<(N + 255) / 256, 256>>>(N, 2.0f, d_x, d_y);\n",
        "        cudaEventRecord(stop_kernel);\n",
        "\n",
        "        cudaMemcpy(y, d_y, N * sizeof(float), cudaMemcpyDeviceToHost);\n",
        "\n",
        "        cudaEventRecord(stop_total);\n",
        "        cudaEventSynchronize(stop_total);\n",
        "        cudaEventSynchronize(stop_kernel);\n",
        "\n",
        "        float total_msec = 0.0f;\n",
        "        float kernel_msec = 0.0f;\n",
        "        cudaEventElapsedTime(&total_msec, start_total, stop_total);\n",
        "        cudaEventElapsedTime(&kernel_msec, start_kernel, stop_kernel);\n",
        "\n",
        "        total_times[idx] = total_msec;\n",
        "        kernel_times[idx] = kernel_msec;\n",
        "\n",
        "        float maxError = 0.0f;\n",
        "        for (int i = 0; i < N; i++)\n",
        "            maxError = fmax(maxError, fabs(y[i] - 4.0f));\n",
        "        printf(\"Max error: %f\\n\", maxError);\n",
        "        printf(\"Total time: %.3f ms, Kernel time: %.3f ms\\n\\n\", total_msec, kernel_msec);\n",
        "\n",
        "        cudaFree(d_x);\n",
        "        cudaFree(d_y);\n",
        "        free(x);\n",
        "        free(y);\n",
        "\n",
        "        cudaEventDestroy(start_total);\n",
        "        cudaEventDestroy(stop_total);\n",
        "        cudaEventDestroy(start_kernel);\n",
        "        cudaEventDestroy(stop_kernel);\n",
        "    }\n",
        "\n",
        "    // Save data to plot later\n",
        "    FILE *fp = fopen(\"timing_data.csv\", \"w\");\n",
        "    fprintf(fp, \"N,TotalTime_ms,KernelTime_ms\\n\");\n",
        "    for (int i = 0; i <= (end_power - start_power); i++) {\n",
        "        int N = 1 << (i + start_power);\n",
        "        fprintf(fp, \"%d,%.5f,%.5f\\n\", N, total_times[i], kernel_times[i]);\n",
        "    }\n",
        "    fclose(fp);\n",
        "\n",
        "    printf(\"Timing data saved to timing_data.csv\\n\");\n",
        "\n",
        "    return 0;\n",
        "}\n"
      ]
    },
    {
      "cell_type": "code",
      "source": [
        "!nvcc cuda.cu -o cuda_exec\n"
      ],
      "metadata": {
        "id": "fLnv04h1QZRt"
      },
      "execution_count": 6,
      "outputs": []
    },
    {
      "cell_type": "code",
      "source": [
        "!./cuda_exec\n"
      ],
      "metadata": {
        "colab": {
          "base_uri": "https://localhost:8080/"
        },
        "id": "BRLIWT-uQjn0",
        "outputId": "dd8c1122-5931-4884-e31d-cdaf30f7a950"
      },
      "execution_count": 7,
      "outputs": [
        {
          "output_type": "stream",
          "name": "stdout",
          "text": [
            "Running for N = 32768\n",
            "Max error: 2.000000\n",
            "Total time: 41.534 ms, Kernel time: 40.265 ms\n",
            "\n",
            "Running for N = 65536\n",
            "Max error: 2.000000\n",
            "Total time: 0.461 ms, Kernel time: 0.003 ms\n",
            "\n",
            "Running for N = 131072\n",
            "Max error: 2.000000\n",
            "Total time: 0.630 ms, Kernel time: 0.003 ms\n",
            "\n",
            "Running for N = 262144\n",
            "Max error: 2.000000\n",
            "Total time: 1.139 ms, Kernel time: 0.003 ms\n",
            "\n",
            "Running for N = 524288\n",
            "Max error: 2.000000\n",
            "Total time: 1.722 ms, Kernel time: 0.003 ms\n",
            "\n",
            "Running for N = 1048576\n",
            "Max error: 2.000000\n",
            "Total time: 2.898 ms, Kernel time: 0.003 ms\n",
            "\n",
            "Running for N = 2097152\n",
            "Max error: 2.000000\n",
            "Total time: 6.008 ms, Kernel time: 0.003 ms\n",
            "\n",
            "Running for N = 4194304\n",
            "Max error: 2.000000\n",
            "Total time: 12.041 ms, Kernel time: 0.003 ms\n",
            "\n",
            "Running for N = 8388608\n",
            "Max error: 2.000000\n",
            "Total time: 22.356 ms, Kernel time: 0.003 ms\n",
            "\n",
            "Running for N = 16777216\n",
            "Max error: 2.000000\n",
            "Total time: 44.415 ms, Kernel time: 0.003 ms\n",
            "\n",
            "Running for N = 33554432\n",
            "Max error: 2.000000\n",
            "Total time: 96.011 ms, Kernel time: 0.003 ms\n",
            "\n",
            "Timing data saved to timing_data.csv\n"
          ]
        }
      ]
    },
    {
      "cell_type": "code",
      "source": [
        "import pandas as pd\n",
        "import matplotlib.pyplot as plt\n",
        "\n",
        "data = pd.read_csv(\"timing_data.csv\")\n",
        "N = data[\"N\"]\n",
        "total_time = data[\"TotalTime_ms\"]\n",
        "kernel_time = data[\"KernelTime_ms\"]\n",
        "\n",
        "plt.figure(figsize=(12,6))\n",
        "plt.bar(range(len(N)), total_time, label=\"Total Time (ms)\", alpha=0.6)\n",
        "plt.bar(range(len(N)), kernel_time, label=\"Kernel Time Only (ms)\", alpha=0.6)\n",
        "plt.xticks(range(len(N)), [f\"2^{int(n).bit_length()-1}\" for n in N])\n",
        "plt.xlabel(\"Matrix Size (N)\")\n",
        "plt.ylabel(\"Time (milliseconds)\")\n",
        "plt.title(\"CUDA SAXPY Execution Times on T4 GPU\")\n",
        "plt.legend()\n",
        "plt.grid(axis='y')\n",
        "plt.tight_layout()\n",
        "plt.show()"
      ],
      "metadata": {
        "colab": {
          "base_uri": "https://localhost:8080/",
          "height": 607
        },
        "id": "jSfsESUYRxwV",
        "outputId": "1c48b3a2-1d5e-4dd8-c974-f511223d935d"
      },
      "execution_count": 8,
      "outputs": [
        {
          "output_type": "display_data",
          "data": {
            "text/plain": [
              "<Figure size 1200x600 with 1 Axes>"
            ],
            "image/png": "[encoded data removed]"
          },
          "metadata": {}
        }
      ]
    }
  ]
}